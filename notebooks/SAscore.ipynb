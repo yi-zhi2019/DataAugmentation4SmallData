{
  "cells": [
    {
      "cell_type": "markdown",
      "metadata": {
        "id": "view-in-github",
        "colab_type": "text"
      },
      "source": [
        "<a href=\"https://colab.research.google.com/github/yi-zhi2019/DataAugmentation4SmallData/blob/main/notebooks/SAscore.ipynb\" target=\"_parent\"><img src=\"https://colab.research.google.com/assets/colab-badge.svg\" alt=\"Open In Colab\"/></a>"
      ]
    },
    {
      "cell_type": "code",
      "execution_count": 4,
      "metadata": {
        "id": "gWsMPoo9HEiB",
        "outputId": "eaf50516-3912-4a20-98aa-2ec8b978b699",
        "colab": {
          "base_uri": "https://localhost:8080/"
        }
      },
      "outputs": [
        {
          "output_type": "stream",
          "name": "stdout",
          "text": [
            "Requirement already satisfied: rdkit-pypi in /usr/local/lib/python3.10/dist-packages (2022.9.5)\n",
            "Requirement already satisfied: numpy in /usr/local/lib/python3.10/dist-packages (from rdkit-pypi) (1.26.4)\n",
            "Requirement already satisfied: Pillow in /usr/local/lib/python3.10/dist-packages (from rdkit-pypi) (11.0.0)\n",
            "Cloning into 'DataAugmentation4SmallData'...\n",
            "remote: Enumerating objects: 362, done.\u001b[K\n",
            "remote: Counting objects: 100% (142/142), done.\u001b[K\n",
            "remote: Compressing objects: 100% (128/128), done.\u001b[K\n",
            "remote: Total 362 (delta 91), reused 14 (delta 14), pack-reused 220 (from 1)\u001b[K\n",
            "Receiving objects: 100% (362/362), 158.45 MiB | 30.46 MiB/s, done.\n",
            "Resolving deltas: 100% (200/200), done.\n",
            "Updating files: 100% (84/84), done.\n"
          ]
        }
      ],
      "source": [
        "!pip install rdkit-pypi\n",
        "import math\n",
        "import pickle\n",
        "from rdkit import Chem\n",
        "from rdkit.Chem import rdMolDescriptors\n",
        "import os\n",
        "import os.path as op\n",
        "import pandas as pd\n",
        "!git clone https://github.com/hkqiu/DataAugmentation4SmallData.git\n"
      ]
    },
    {
      "cell_type": "code",
      "execution_count": 6,
      "metadata": {
        "colab": {
          "base_uri": "https://localhost:8080/"
        },
        "id": "A0xqplbbHEiD",
        "outputId": "b63f7986-0a26-4713-94c1-4a7a671d75e0"
      },
      "outputs": [
        {
          "output_type": "stream",
          "name": "stdout",
          "text": [
            "Starting caclucating...\n",
            "Successfully Done!\n",
            "time cost: 0.12765 min\n",
            "                                              Smiles  SA_Score\n",
            "0  *c1cccc(N2C(=O)c3ccc4c5c(ccc(c35)C2=O)C(=O)N(*...  3.419736\n",
            "1  *c1cccc(N2C(=O)c3ccc(C(=O)c4ccc5c(c4)C(=O)N(*)...  3.270827\n",
            "2  *c1cccc(N2C(=O)c3ccc4c5ccc6c7c(ccc(c8ccc(c3c48...  3.439890\n",
            "3  *c1cccc(N2C(=O)c3cc(Cl)c4c5c(Cl)cc6c7c(cc(Cl)c...  3.907398\n",
            "4  *c1cccc(N2C(=O)[C@@H]3[C@H](C2=O)C2(c4ccccc4)C...  5.760158\n"
          ]
        }
      ],
      "source": [
        "\n",
        "\n",
        "#get_sa_score start\n",
        "_fscores = None\n",
        "\n",
        "def readFragmentScores(name='fpscores'):\n",
        "    import gzip\n",
        "    global _fscores\n",
        "    # generate the full path filename:\n",
        "    name = op.join('/content/DataAugmentation4SmallData/notebooks/', name)\n",
        "\n",
        "        # name = op.join(op.dirname(__file__), name)\n",
        "    data = pickle.load(gzip.open('%s.pkl.gz' % name))\n",
        "    outDict = {}\n",
        "    for i in data:\n",
        "        for j in range(1, len(i)):\n",
        "            outDict[i[j]] = float(i[0])\n",
        "    _fscores = outDict\n",
        "def numBridgeheadsAndSpiro(mol, ri=None):\n",
        "    nSpiro = rdMolDescriptors.CalcNumSpiroAtoms(mol)\n",
        "    nBridgehead = rdMolDescriptors.CalcNumBridgeheadAtoms(mol)\n",
        "    return nBridgehead, nSpiro\n",
        "def calculateScore(m):\n",
        "    if _fscores is None:\n",
        "        readFragmentScores()\n",
        "    # fragment score\n",
        "    fp = rdMolDescriptors.GetMorganFingerprint(m,\n",
        "                                            2)  # <- 2 is the *radius* of the circular fingerprint\n",
        "    fps = fp.GetNonzeroElements()\n",
        "    score1 = 0.\n",
        "    nf = 0\n",
        "    for bitId, v in fps.items():\n",
        "        nf += v\n",
        "        sfp = bitId\n",
        "        score1 += _fscores.get(sfp, -4) * v\n",
        "    score1 /= nf\n",
        "\n",
        "    # features score\n",
        "    nAtoms = m.GetNumAtoms()\n",
        "    nChiralCenters = len(Chem.FindMolChiralCenters(m, includeUnassigned=True))\n",
        "    ri = m.GetRingInfo()\n",
        "    nBridgeheads, nSpiro = numBridgeheadsAndSpiro(m, ri)\n",
        "    nMacrocycles = 0\n",
        "    for x in ri.AtomRings():\n",
        "        if len(x) > 8:\n",
        "            nMacrocycles += 1\n",
        "\n",
        "    sizePenalty = nAtoms**1.005 - nAtoms\n",
        "    stereoPenalty = math.log10(nChiralCenters + 1)\n",
        "    spiroPenalty = math.log10(nSpiro + 1)\n",
        "    bridgePenalty = math.log10(nBridgeheads + 1)\n",
        "    macrocyclePenalty = 0.\n",
        "    # ---------------------------------------\n",
        "    # This differs from the paper, which defines:\n",
        "    # macrocyclePenalty = math.log10(nMacrocycles+1)\n",
        "    # This form generates better results when 2 or more macrocycles are present\n",
        "    if nMacrocycles > 0:\n",
        "        macrocyclePenalty = math.log10(2)\n",
        "\n",
        "    score2 = 0. - sizePenalty - stereoPenalty - spiroPenalty - bridgePenalty - macrocyclePenalty\n",
        "\n",
        "    # correction for the fingerprint density\n",
        "    # not in the original publication, added in version 1.1\n",
        "    # to make highly symmetrical molecules easier to synthetise\n",
        "    score3 = 0.\n",
        "    if nAtoms > len(fps):\n",
        "        score3 = math.log(float(nAtoms) / len(fps)) * .5\n",
        "\n",
        "    sascore = score1 + score2 + score3\n",
        "\n",
        "    # need to transform \"raw\" value into scale between 1 and 10\n",
        "    min = -4.0\n",
        "    max = 2.5\n",
        "    sascore = 11. - (sascore - min + 1) / (max - min) * 9.\n",
        "    # smooth the 10-end\n",
        "    if sascore > 8.:\n",
        "        sascore = 8. + math.log(sascore + 1. - 9.)\n",
        "    if sascore > 10.:\n",
        "        sascore = 10.0\n",
        "    elif sascore < 1.:\n",
        "        sascore = 1.0\n",
        "\n",
        "    return sascore\n",
        "def my_score(mols:list):\n",
        "    readFragmentScores(\"fpscores\")\n",
        "    import time\n",
        "    start = time.time()\n",
        "    print(\"Starting caclucating...\")\n",
        "#     print('smiles\\tsa_score')\n",
        "    res = []\n",
        "    for m in mols:\n",
        "        s = calculateScore(m)\n",
        "        smiles = Chem.MolToSmiles(m)\n",
        "#         print(smiles + \"\\t\" + \"\\t%3f\" % s)\n",
        "        res.append((smiles,s))\n",
        "\n",
        "    df = pd.DataFrame(res)\n",
        "    df.columns = ['Smiles', 'SA_Score']\n",
        "    print(\"Successfully Done!\")\n",
        "    end = time.time()\n",
        "    running_time = end - start\n",
        "    print(\"time cost: %.5f min\" % (running_time/60))\n",
        "    return df\n",
        "\n",
        "if __name__ == \"__main__\":\n",
        "    file = pd.read_csv('/content/DataAugmentation4SmallData/notebooks/ForSAscore.csv')\n",
        "    file.head()\n",
        "    smiles_list = file['Smiles'].tolist()\n",
        "    mols = []\n",
        "    for smile in smiles_list:\n",
        "        try:\n",
        "            mol = Chem.MolFromSmiles(smile)\n",
        "        except BaseException:  # 发现解析错误，就跳过\n",
        "            pass\n",
        "        mols.append(mol)\n",
        "    res = my_score(mols)\n",
        "    print(res.head())\n",
        "    res.to_csv('ForSAscore.csv')"
      ]
    },
    {
      "cell_type": "code",
      "execution_count": null,
      "metadata": {
        "id": "XvrH6mdPHEiF"
      },
      "outputs": [],
      "source": []
    }
  ],
  "metadata": {
    "kernelspec": {
      "display_name": "Python 3",
      "language": "python",
      "name": "python3"
    },
    "language_info": {
      "codemirror_mode": {
        "name": "ipython",
        "version": 3
      },
      "file_extension": ".py",
      "mimetype": "text/x-python",
      "name": "python",
      "nbconvert_exporter": "python",
      "pygments_lexer": "ipython3",
      "version": "3.7.6"
    },
    "toc": {
      "base_numbering": 1,
      "nav_menu": {},
      "number_sections": true,
      "sideBar": true,
      "skip_h1_title": false,
      "title_cell": "Table of Contents",
      "title_sidebar": "Contents",
      "toc_cell": false,
      "toc_position": {},
      "toc_section_display": true,
      "toc_window_display": false
    },
    "colab": {
      "provenance": [],
      "include_colab_link": true
    }
  },
  "nbformat": 4,
  "nbformat_minor": 0
}